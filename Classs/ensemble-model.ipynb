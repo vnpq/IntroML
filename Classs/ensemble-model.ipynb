{
 "cells": [
  {
   "cell_type": "code",
   "execution_count": 21,
   "metadata": {},
   "outputs": [],
   "source": [
    "import numpy as np"
   ]
  },
  {
   "cell_type": "code",
   "execution_count": 32,
   "metadata": {},
   "outputs": [],
   "source": [
    "y = np.array([1, 1, 1, -1, -1, 1, -1, 1, -1, -1])\n",
    "w0 = np.array([0.1, 0.1, 0.1, 0.1, 0.1, 0.1, 0.1, 0.1, 0.1, 0.1])\n",
    "alpha = np.array([0.42, 0.65, 0.92])"
   ]
  },
  {
   "cell_type": "code",
   "execution_count": 40,
   "metadata": {},
   "outputs": [
    {
     "name": "stdout",
     "output_type": "stream",
     "text": [
      "0.3 0.42\n",
      "[0.16605851 0.16605851 0.16605851 0.07168921 0.07168921 0.07168921\n",
      " 0.07168921 0.07168921 0.07168921 0.07168921]\n"
     ]
    }
   ],
   "source": [
    "y_pred1 = np.array([-1, -1, -1, -1, -1, 1, -1, 1, -1, -1])\n",
    "error = np.sum(w0 * (y != y_pred1)).round(2)\n",
    "alpha = (np.log((1 - error) / error) / 2).round(2)\n",
    "w1 = w0 * np.exp(-alpha * y * y_pred1)\n",
    "w1 = w1 / np.sum(w1)\n",
    "print(error, alpha)\n",
    "print(w1)"
   ]
  },
  {
   "cell_type": "code",
   "execution_count": null,
   "metadata": {},
   "outputs": [
    {
     "name": "stdout",
     "output_type": "stream",
     "text": [
      "0.65\n",
      "[0.10549565 0.10549565 0.10549565 0.04554358 0.16711291 0.04554358\n",
      " 0.16711291 0.04554358 0.04554358 0.16711291]\n"
     ]
    }
   ],
   "source": [
    "y_pred2 = np.array([1, 1, 1, -1, 1, 1, 1, 1, -1, 1])\n",
    "error = np.sum(w1 * (y != y_pred2)).round(2)\n",
    "alpha = (np.log((1 - error) / error) / 2).round(2)\n",
    "w2 = w1 * np.exp(-alpha * y * y_pred2)\n",
    "w2 = w2 / np.sum(w2)\n",
    "print(error, alpha)\n",
    "print(w2)"
   ]
  },
  {
   "cell_type": "code",
   "execution_count": null,
   "metadata": {},
   "outputs": [],
   "source": []
  }
 ],
 "metadata": {
  "kernelspec": {
   "display_name": "min_ds-env2",
   "language": "python",
   "name": "python3"
  },
  "language_info": {
   "codemirror_mode": {
    "name": "ipython",
    "version": 3
   },
   "file_extension": ".py",
   "mimetype": "text/x-python",
   "name": "python",
   "nbconvert_exporter": "python",
   "pygments_lexer": "ipython3",
   "version": "3.10.15"
  }
 },
 "nbformat": 4,
 "nbformat_minor": 2
}
