{
 "cells": [
  {
   "cell_type": "markdown",
   "metadata": {},
   "source": [
    "# Python, Variables, and Functions"
   ]
  },
  {
   "cell_type": "markdown",
   "metadata": {},
   "source": [
    "## Welcome to the Course"
   ]
  },
  {
   "cell_type": "markdown",
   "metadata": {},
   "source": [
    "## Getting Started\n",
    "### Python as a Calculator\n",
    "interger division: `//`\n",
    "### Python and Computer Memory"
   ]
  },
  {
   "cell_type": "markdown",
   "metadata": {},
   "source": [
    "## Variables and Functions\n",
    "### Variables\n",
    "\n",
    "### Built-in Functions\n"
   ]
  },
  {
   "cell_type": "code",
   "execution_count": 10,
   "metadata": {},
   "outputs": [
    {
     "name": "stdout",
     "output_type": "stream",
     "text": [
      "Help on built-in function abs in module builtins:\n",
      "\n",
      "abs(x, /)\n",
      "    Return the absolute value of the argument.\n",
      "\n",
      "Help on built-in function round in module builtins:\n",
      "\n",
      "round(number, ndigits=None)\n",
      "    Round a number to a given precision in decimal digits.\n",
      "    \n",
      "    The return value is an integer if ndigits is omitted or None.  Otherwise\n",
      "    the return value has the same type as the number.  ndigits may be negative.\n",
      "\n",
      "Help on built-in function id in module builtins:\n",
      "\n",
      "id(obj, /)\n",
      "    Return the identity of an object.\n",
      "    \n",
      "    This is guaranteed to be unique among simultaneously existing objects.\n",
      "    (CPython uses the object's memory address.)\n",
      "\n"
     ]
    }
   ],
   "source": [
    "dir(__builtins__)\n",
    "help(abs)\n",
    "help(round)\n",
    "help(id)"
   ]
  },
  {
   "cell_type": "markdown",
   "metadata": {},
   "source": [
    "### Defining Functions"
   ]
  },
  {
   "cell_type": "code",
   "execution_count": 12,
   "metadata": {},
   "outputs": [
    {
     "name": "stdout",
     "output_type": "stream",
     "text": [
      "4\n",
      "45\n"
     ]
    },
    {
     "data": {
      "text/plain": [
       "8916100448256"
      ]
     },
     "execution_count": 12,
     "metadata": {},
     "output_type": "execute_result"
    }
   ],
   "source": [
    "def f(x: float):\n",
    "    return x**2\n",
    "\n",
    "print(f(2))\n",
    "\n",
    "print(round(45.342))\n",
    "\n",
    "def bigger(x):\n",
    "    return x ** x\n",
    "\n",
    "bigger(12)"
   ]
  },
  {
   "cell_type": "markdown",
   "metadata": {},
   "source": [
    "# Strings and Designing Functions\n",
    "## Strings\n",
    "- ''' .... ''': văn bản xuống dòng\n",
    "- \\t: tab\n",
    "\n",
    "### Docstring\n",
    "use to describe "
   ]
  },
  {
   "cell_type": "code",
   "execution_count": 14,
   "metadata": {},
   "outputs": [
    {
     "name": "stdout",
     "output_type": "stream",
     "text": [
      "12\n",
      "Help on function arae in module __main__:\n",
      "\n",
      "arae(x, y)\n",
      "    (number, number) -> number\n",
      "    Return the area of a rectangle with dimensions x and y.\n",
      "\n"
     ]
    }
   ],
   "source": [
    "def arae(x, y):\n",
    "    ''' (number, number) -> number\n",
    "    Return the area of a rectangle with dimensions x and y.\n",
    "    '''\n",
    "    return x * y\n",
    "\n",
    "print (arae(3, 4))\n",
    "help(arae)"
   ]
  },
  {
   "cell_type": "markdown",
   "metadata": {},
   "source": [
    "### Function design recipe:\n",
    "1. Examples:\n",
    "- What the function does?\n",
    "- Type some example calls\n",
    "- Pick a name\n",
    "2. Type Contract\n",
    "- What are parameter types\n",
    "- What type of values is returned\n",
    "3. Header: pick meaningful parameter names\n",
    "\n",
    "4. Description: mention every parameter in the description, Describe the return value\n",
    "\n",
    "5. Body: code\n",
    "\n"
   ]
  },
  {
   "cell_type": "code",
   "execution_count": 29,
   "metadata": {},
   "outputs": [
    {
     "data": {
      "text/plain": [
       "'85.0'"
      ]
     },
     "execution_count": 29,
     "metadata": {},
     "output_type": "execute_result"
    }
   ],
   "source": [
    "grade1 = 80\n",
    "grade2 = 90\n",
    "average = (grade1 + grade2) / 2\n",
    "grade1 = 100\n",
    "\n",
    "str(average)"
   ]
  },
  {
   "cell_type": "code",
   "execution_count": 31,
   "metadata": {},
   "outputs": [
    {
     "name": "stdout",
     "output_type": "stream",
     "text": [
      "5.0\n"
     ]
    },
    {
     "ename": "ModuleNotFoundError",
     "evalue": "No module named 'triangle'",
     "output_type": "error",
     "traceback": [
      "\u001b[1;31m---------------------------------------------------------------------------\u001b[0m",
      "\u001b[1;31mModuleNotFoundError\u001b[0m                       Traceback (most recent call last)",
      "Cell \u001b[1;32mIn[31], line 11\u001b[0m\n\u001b[0;32m      7\u001b[0m     \u001b[38;5;28;01mreturn\u001b[39;00m math\u001b[38;5;241m.\u001b[39msqrt((x2 \u001b[38;5;241m-\u001b[39m x1) \u001b[38;5;241m*\u001b[39m\u001b[38;5;241m*\u001b[39m \u001b[38;5;241m2\u001b[39m \u001b[38;5;241m+\u001b[39m (y2 \u001b[38;5;241m-\u001b[39m y1) \u001b[38;5;241m*\u001b[39m\u001b[38;5;241m*\u001b[39m \u001b[38;5;241m2\u001b[39m)\n\u001b[0;32m      9\u001b[0m \u001b[38;5;28mprint\u001b[39m(distance(\u001b[38;5;241m1\u001b[39m, \u001b[38;5;241m2\u001b[39m, \u001b[38;5;241m4\u001b[39m, \u001b[38;5;241m6\u001b[39m))\n\u001b[1;32m---> 11\u001b[0m \u001b[38;5;28;01mimport\u001b[39;00m \u001b[38;5;21;01mtriangle\u001b[39;00m\n\u001b[0;32m     13\u001b[0m \u001b[38;5;28;01mdef\u001b[39;00m \u001b[38;5;21marea\u001b[39m(sidelength):\n\u001b[0;32m     14\u001b[0m \u001b[38;5;250m    \u001b[39m\u001b[38;5;124;03m''' (number) -> float\u001b[39;00m\n\u001b[0;32m     15\u001b[0m \u001b[38;5;124;03m    Return the area of a triangle with side length side_length.\u001b[39;00m\n\u001b[0;32m     16\u001b[0m \u001b[38;5;124;03m    '''\u001b[39;00m\n",
      "\u001b[1;31mModuleNotFoundError\u001b[0m: No module named 'triangle'"
     ]
    }
   ],
   "source": [
    "import math\n",
    "\n",
    "def distance(x1, y1, x2, y2):\n",
    "    ''' (number, number, number, number) -> float\n",
    "    Return the distance between the points (x1, y1) and (x2, y2).\n",
    "    '''\n",
    "    return math.sqrt((x2 - x1) ** 2 + (y2 - y1) ** 2)\n",
    "\n",
    "print(distance(1, 2, 4, 6))\n",
    "\n",
    "import triangle\n",
    "\n",
    "def area(sidelength):\n",
    "    ''' (number) -> float\n",
    "    Return the area of a triangle with side length side_length.\n",
    "    '''\n",
    "    return triangle.area_hero(sidelength, sidelength, sidelength)"
   ]
  },
  {
   "cell_type": "markdown",
   "metadata": {},
   "source": [
    "# Python Sets\n",
    "\n",
    "- remove: xóa key đã tồn tại trong set, nếu ko tồn tại => báo lỗi\n",
    "- discard: nếu key tồn tại thì xóa, ko thì thôi\n",
    "- s1.intersection(s2): trả về 1 set có những key có trong s1 và s2\n",
    "- s1.difference(s2): có trong s1 nhưng ko có trong s2\n",
    "- s1.symmetric_difference(s2): s1 + s2 - giao(s1, s2)\n",
    "\n",
    "\n",
    "O(n) for a list, O(1) for a set"
   ]
  },
  {
   "cell_type": "code",
   "execution_count": 28,
   "metadata": {},
   "outputs": [
    {
     "name": "stdout",
     "output_type": "stream",
     "text": [
      "{1, 2, 3, 4}\n",
      "{'C', 'A', 'B'}\n"
     ]
    }
   ],
   "source": [
    "my_set = {1, 2, 3, 4, 5}\n",
    "my_empty_set = set()\n",
    "my_empty_set.add(10)\n",
    "\n",
    "my_set.add(6)\n",
    "my_set.update([7, 8, 9])\n",
    "my_set.update(my_empty_set)\n",
    "\n",
    "my_list = [1, 2, 3, 1, 4, 3]\n",
    "l1 = set(my_list) # remove duplicates\n",
    "print(l1)\n",
    "\n",
    "students = ['A', 'B', 'C', 'D', 'E']\n",
    "good_kid = ['A', 'B', 'C']\n",
    "result = set(students).intersection(good_kid)\n",
    "print(result)\n",
    "\n",
    "for s in students:\n",
    "    if s in good_kid:\n",
    "        print(s)\n",
    "        \n",
    "# O(n) for list, O(1) for set\n",
    "\n",
    "\n",
    "\n"
   ]
  }
 ],
 "metadata": {
  "kernelspec": {
   "display_name": "Python 3",
   "language": "python",
   "name": "python3"
  },
  "language_info": {
   "codemirror_mode": {
    "name": "ipython",
    "version": 3
   },
   "file_extension": ".py",
   "mimetype": "text/x-python",
   "name": "python",
   "nbconvert_exporter": "python",
   "pygments_lexer": "ipython3",
   "version": "3.11.9"
  }
 },
 "nbformat": 4,
 "nbformat_minor": 2
}
